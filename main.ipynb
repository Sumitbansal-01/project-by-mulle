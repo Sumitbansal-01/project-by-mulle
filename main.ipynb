{
 "cells": [
  {
   "cell_type": "code",
   "execution_count": 1,
   "id": "31942359",
   "metadata": {},
   "outputs": [],
   "source": [
    "import mysql.connector\n",
    "cnx = mysql.connector.connect(user='root', host='localhost',password='1998')"
   ]
  },
  {
   "cell_type": "code",
   "execution_count": 2,
   "id": "322c08d4",
   "metadata": {},
   "outputs": [],
   "source": [
    "mycursor = cnx.cursor()\n",
    "mycursor.execute('Create database new;')\n",
    "mycursor.execute('use new;')\n",
    "mycursor.execute('Create table movie(Name varchar(50),Lead_Actor varchar(50),Lead_Actress varchar(50),Release_Year INT,Director_Name varchar(50));')"
   ]
  },
  {
   "cell_type": "code",
   "execution_count": 4,
   "id": "e0e57790",
   "metadata": {},
   "outputs": [],
   "source": [
    "mycursor.execute(\"\"\"Insert into movie values\n",
    "                ('Interstellar','Matthew McConaughey','Anne Hathaway',2014,'Christopher Nolan'),\n",
    "                ('Ms Dhoni The Untold Story','Sushant Singh Rajput','Kiara Advani',2016,'Neeraj Pandey'),\n",
    "                ('Tanhaji The Unsung Warrior','Ajay Devgn','Kajol Devgn',2020,'Om Raut'),\n",
    "                ('Logan','Hugh Jackman','Dafne Keen',2017,'James Mangold'),\n",
    "                ('Dangal','Aamir Khan','Kiran Rao',2016,'Nitesh Tiwari');\"\"\")\n",
    "cnx.commit()"
   ]
  },
  {
   "cell_type": "code",
   "execution_count": 9,
   "id": "9c2590c8",
   "metadata": {},
   "outputs": [
    {
     "name": "stdout",
     "output_type": "stream",
     "text": [
      "('Interstellar', 'Matthew McConaughey', 'Anne Hathaway', 2014, 'Christopher Nolan')\n",
      "('Ms Dhoni The Untold Story', 'Sushant Singh Rajput', 'Kiara Advani', 2016, 'Neeraj Pandey')\n",
      "('Tanhaji The Unsung Warrior', 'Ajay Devgn', 'Kajol Devgn', 2020, 'Om Raut')\n",
      "('Logan', 'Hugh Jackman', 'Dafne Keen', 2017, 'James Mangold')\n",
      "('Dangal', 'Aamir Khan', 'Kiran Rao', 2016, 'Nitesh Tiwari')\n"
     ]
    }
   ],
   "source": [
    "mycursor.execute('Select * from movie')\n",
    "res=mycursor.fetchall()\n",
    "for i in res:\n",
    "    print(i)"
   ]
  },
  {
   "cell_type": "code",
   "execution_count": 8,
   "id": "7948a2b6",
   "metadata": {},
   "outputs": [],
   "source": [
    "mycursor.execute('Select Name from movie where Release_year<2017;')\n",
    "result=mycursor.fetchall()"
   ]
  },
  {
   "cell_type": "code",
   "execution_count": 7,
   "id": "b119e179",
   "metadata": {},
   "outputs": [
    {
     "name": "stdout",
     "output_type": "stream",
     "text": [
      "('Interstellar',)\n",
      "('Ms Dhoni The Untold Story',)\n",
      "('Dangal',)\n"
     ]
    }
   ],
   "source": [
    "for i in result:\n",
    "    print(i)"
   ]
  },
  {
   "cell_type": "code",
   "execution_count": null,
   "id": "5c6d476f",
   "metadata": {},
   "outputs": [],
   "source": []
  }
 ],
 "metadata": {
  "kernelspec": {
   "display_name": "Python 3 (ipykernel)",
   "language": "python",
   "name": "python3"
  },
  "language_info": {
   "codemirror_mode": {
    "name": "ipython",
    "version": 3
   },
   "file_extension": ".py",
   "mimetype": "text/x-python",
   "name": "python",
   "nbconvert_exporter": "python",
   "pygments_lexer": "ipython3",
   "version": "3.9.7"
  }
 },
 "nbformat": 4,
 "nbformat_minor": 5
}
